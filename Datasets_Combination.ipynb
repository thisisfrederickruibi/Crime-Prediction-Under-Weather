{
 "cells": [
  {
   "cell_type": "markdown",
   "id": "58b3db7e-fe1c-427f-97d6-97c2568c299e",
   "metadata": {},
   "source": [
    "<center><h1><b>Datasets Combination</b></h1></center>\n"
   ]
  },
  {
   "cell_type": "code",
   "execution_count": 1,
   "id": "2c031b82-a7b1-4bd4-9266-1a1d64137156",
   "metadata": {},
   "outputs": [],
   "source": [
    "import os\n",
    "import pandas as pd"
   ]
  },
  {
   "cell_type": "code",
   "execution_count": 3,
   "id": "b311012b-1ce0-4e40-9e09-951f8caf7308",
   "metadata": {},
   "outputs": [],
   "source": [
    "# Load Crime Data \n",
    "crime_folder = \"Processed Crime Data\"\n",
    "\n",
    "burglary_df = pd.read_csv(os.path.join(crime_folder, \"Burglary.csv\"))\n",
    "robbery_df = pd.read_csv(os.path.join(crime_folder, \"Robbery.csv\"))\n",
    "theft_df = pd.read_csv(os.path.join(crime_folder, \"Theft.csv\"))"
   ]
  },
  {
   "cell_type": "code",
   "execution_count": 4,
   "id": "8928e0ed-55ab-4001-a05f-922323ec0359",
   "metadata": {},
   "outputs": [],
   "source": [
    "# Load All Weather Data \n",
    "weather_folder = \"Processed Weather Data\"\n",
    "weather_files = [f for f in os.listdir(weather_folder) if f.endswith(\".csv\")]"
   ]
  },
  {
   "cell_type": "code",
   "execution_count": 5,
   "id": "bcf8bb09-38f2-421e-be4f-b2e9168c2569",
   "metadata": {},
   "outputs": [],
   "source": [
    "# Load and concatenate all weather files into one DataFrame\n",
    "weather_df_list = []\n",
    "\n",
    "for file in weather_files:\n",
    "    df = pd.read_csv(os.path.join(weather_folder, file))\n",
    "    weather_df_list.append(df)"
   ]
  },
  {
   "cell_type": "code",
   "execution_count": 6,
   "id": "a5f95959-27c4-4658-8cec-655a9af90a80",
   "metadata": {},
   "outputs": [],
   "source": [
    "# Combine all borough weather files into one DataFrame\n",
    "weather_df = pd.concat(weather_df_list, ignore_index=True)"
   ]
  },
  {
   "cell_type": "code",
   "execution_count": 7,
   "id": "713752a8-e211-4172-8953-7c0390222fd4",
   "metadata": {},
   "outputs": [
    {
     "name": "stdout",
     "output_type": "stream",
     "text": [
      "Crime data shapes:\n",
      "Burglary: (547, 15)\n",
      "Robbery: (547, 15)\n",
      "Theft: (547, 15)\n",
      "\n",
      "Weather data shape: (7111, 10)\n"
     ]
    }
   ],
   "source": [
    "# Preview results\n",
    "print(\"Crime data shapes:\")\n",
    "print(\"Burglary:\", burglary_df.shape)\n",
    "print(\"Robbery:\", robbery_df.shape)\n",
    "print(\"Theft:\", theft_df.shape)\n",
    "\n",
    "print(\"\\nWeather data shape:\", weather_df.shape)"
   ]
  },
  {
   "cell_type": "code",
   "execution_count": 9,
   "id": "fd852bb0-37ce-45e5-8bb0-bb74572692a6",
   "metadata": {},
   "outputs": [
    {
     "data": {
      "text/html": [
       "<div>\n",
       "<style scoped>\n",
       "    .dataframe tbody tr th:only-of-type {\n",
       "        vertical-align: middle;\n",
       "    }\n",
       "\n",
       "    .dataframe tbody tr th {\n",
       "        vertical-align: top;\n",
       "    }\n",
       "\n",
       "    .dataframe thead th {\n",
       "        text-align: right;\n",
       "    }\n",
       "</style>\n",
       "<table border=\"1\" class=\"dataframe\">\n",
       "  <thead>\n",
       "    <tr style=\"text-align: right;\">\n",
       "      <th></th>\n",
       "      <th>name</th>\n",
       "      <th>datetime</th>\n",
       "      <th>tempmax</th>\n",
       "      <th>tempmin</th>\n",
       "      <th>temp</th>\n",
       "      <th>humidity</th>\n",
       "      <th>precip</th>\n",
       "      <th>snow</th>\n",
       "      <th>windspeed</th>\n",
       "      <th>visibility</th>\n",
       "    </tr>\n",
       "  </thead>\n",
       "  <tbody>\n",
       "    <tr>\n",
       "      <th>0</th>\n",
       "      <td>Camden</td>\n",
       "      <td>2019-01-01</td>\n",
       "      <td>11.1</td>\n",
       "      <td>6.5</td>\n",
       "      <td>8.8</td>\n",
       "      <td>74.1</td>\n",
       "      <td>0.0</td>\n",
       "      <td>0.0</td>\n",
       "      <td>11.0</td>\n",
       "      <td>21.9</td>\n",
       "    </tr>\n",
       "    <tr>\n",
       "      <th>1</th>\n",
       "      <td>Camden</td>\n",
       "      <td>2019-01-02</td>\n",
       "      <td>6.6</td>\n",
       "      <td>5.1</td>\n",
       "      <td>5.8</td>\n",
       "      <td>68.9</td>\n",
       "      <td>0.0</td>\n",
       "      <td>0.0</td>\n",
       "      <td>7.8</td>\n",
       "      <td>16.1</td>\n",
       "    </tr>\n",
       "    <tr>\n",
       "      <th>2</th>\n",
       "      <td>Camden</td>\n",
       "      <td>2019-01-03</td>\n",
       "      <td>5.6</td>\n",
       "      <td>4.0</td>\n",
       "      <td>5.1</td>\n",
       "      <td>66.5</td>\n",
       "      <td>0.0</td>\n",
       "      <td>0.0</td>\n",
       "      <td>5.1</td>\n",
       "      <td>19.9</td>\n",
       "    </tr>\n",
       "    <tr>\n",
       "      <th>3</th>\n",
       "      <td>Camden</td>\n",
       "      <td>2019-01-04</td>\n",
       "      <td>5.0</td>\n",
       "      <td>2.5</td>\n",
       "      <td>3.6</td>\n",
       "      <td>70.1</td>\n",
       "      <td>0.0</td>\n",
       "      <td>0.0</td>\n",
       "      <td>7.6</td>\n",
       "      <td>8.5</td>\n",
       "    </tr>\n",
       "    <tr>\n",
       "      <th>4</th>\n",
       "      <td>Camden</td>\n",
       "      <td>2019-01-05</td>\n",
       "      <td>6.1</td>\n",
       "      <td>4.0</td>\n",
       "      <td>5.1</td>\n",
       "      <td>74.0</td>\n",
       "      <td>0.0</td>\n",
       "      <td>0.0</td>\n",
       "      <td>8.9</td>\n",
       "      <td>11.2</td>\n",
       "    </tr>\n",
       "  </tbody>\n",
       "</table>\n",
       "</div>"
      ],
      "text/plain": [
       "     name    datetime  tempmax  tempmin  temp  humidity  precip  snow  \\\n",
       "0  Camden  2019-01-01     11.1      6.5   8.8      74.1     0.0   0.0   \n",
       "1  Camden  2019-01-02      6.6      5.1   5.8      68.9     0.0   0.0   \n",
       "2  Camden  2019-01-03      5.6      4.0   5.1      66.5     0.0   0.0   \n",
       "3  Camden  2019-01-04      5.0      2.5   3.6      70.1     0.0   0.0   \n",
       "4  Camden  2019-01-05      6.1      4.0   5.1      74.0     0.0   0.0   \n",
       "\n",
       "   windspeed  visibility  \n",
       "0       11.0        21.9  \n",
       "1        7.8        16.1  \n",
       "2        5.1        19.9  \n",
       "3        7.6         8.5  \n",
       "4        8.9        11.2  "
      ]
     },
     "execution_count": 9,
     "metadata": {},
     "output_type": "execute_result"
    }
   ],
   "source": [
    "weather_df.head()"
   ]
  },
  {
   "cell_type": "code",
   "execution_count": 10,
   "id": "c7f94f83-fbd7-4bdd-ad97-261f2817e0ec",
   "metadata": {},
   "outputs": [],
   "source": [
    "# Drop \"Total Crimes\" columns\n",
    "burglary_df = burglary_df.drop(columns=[\"Total Crimes\"])\n",
    "robbery_df = robbery_df.drop(columns=[\"Total Crimes\"])\n",
    "theft_df = theft_df.drop(columns=[\"Total Crimes\"])"
   ]
  },
  {
   "cell_type": "code",
   "execution_count": 11,
   "id": "134c005a-b8c0-4488-926a-a799abcd0e81",
   "metadata": {},
   "outputs": [],
   "source": [
    "# Reshape to long format \n",
    "burglary_long = burglary_df.melt(id_vars=\"Date\", var_name=\"Borough\", value_name=\"Burglary\")\n",
    "robbery_long = robbery_df.melt(id_vars=\"Date\", var_name=\"Borough\", value_name=\"Robbery\")\n",
    "theft_long = theft_df.melt(id_vars=\"Date\", var_name=\"Borough\", value_name=\"Theft\")"
   ]
  },
  {
   "cell_type": "code",
   "execution_count": 12,
   "id": "5a7b6ec0-c2db-415b-ae80-3630d65e27af",
   "metadata": {},
   "outputs": [],
   "source": [
    "# Merge crime types \n",
    "crime_df = burglary_long.merge(robbery_long, on=[\"Date\", \"Borough\"])\n",
    "crime_df = crime_df.merge(theft_long, on=[\"Date\", \"Borough\"])\n",
    "crime_df[\"Total_Crime\"] = crime_df[\"Burglary\"] + crime_df[\"Robbery\"] + crime_df[\"Theft\"]"
   ]
  },
  {
   "cell_type": "code",
   "execution_count": 13,
   "id": "4fb9c451-2557-4fa3-8631-9a533becbe0d",
   "metadata": {},
   "outputs": [],
   "source": [
    "weather_df = weather_df.rename(columns={\"name\": \"Borough\", \"datetime\": \"Date\"})"
   ]
  },
  {
   "cell_type": "code",
   "execution_count": 14,
   "id": "1f81871c-35c2-4641-a40a-4e9708264308",
   "metadata": {},
   "outputs": [],
   "source": [
    "# Ensure date formats match\n",
    "crime_df[\"Date\"] = pd.to_datetime(crime_df[\"Date\"])\n",
    "weather_df[\"Date\"] = pd.to_datetime(weather_df[\"Date\"])"
   ]
  },
  {
   "cell_type": "code",
   "execution_count": 15,
   "id": "79d9a65d-3ee0-4738-8d89-bd6aa608e044",
   "metadata": {},
   "outputs": [],
   "source": [
    "# Final Merge \n",
    "final_df = crime_df.merge(weather_df, on=[\"Date\", \"Borough\"])"
   ]
  },
  {
   "cell_type": "code",
   "execution_count": 16,
   "id": "c9eb59fb-9b94-4cf5-9de2-dccfc6f06b5e",
   "metadata": {},
   "outputs": [
    {
     "data": {
      "text/html": [
       "<div>\n",
       "<style scoped>\n",
       "    .dataframe tbody tr th:only-of-type {\n",
       "        vertical-align: middle;\n",
       "    }\n",
       "\n",
       "    .dataframe tbody tr th {\n",
       "        vertical-align: top;\n",
       "    }\n",
       "\n",
       "    .dataframe thead th {\n",
       "        text-align: right;\n",
       "    }\n",
       "</style>\n",
       "<table border=\"1\" class=\"dataframe\">\n",
       "  <thead>\n",
       "    <tr style=\"text-align: right;\">\n",
       "      <th></th>\n",
       "      <th>Date</th>\n",
       "      <th>Borough</th>\n",
       "      <th>Burglary</th>\n",
       "      <th>Robbery</th>\n",
       "      <th>Theft</th>\n",
       "      <th>Total_Crime</th>\n",
       "      <th>tempmax</th>\n",
       "      <th>tempmin</th>\n",
       "      <th>temp</th>\n",
       "      <th>humidity</th>\n",
       "      <th>precip</th>\n",
       "      <th>snow</th>\n",
       "      <th>windspeed</th>\n",
       "      <th>visibility</th>\n",
       "    </tr>\n",
       "  </thead>\n",
       "  <tbody>\n",
       "    <tr>\n",
       "      <th>0</th>\n",
       "      <td>2019-01-01</td>\n",
       "      <td>Camden</td>\n",
       "      <td>9</td>\n",
       "      <td>3</td>\n",
       "      <td>38</td>\n",
       "      <td>50</td>\n",
       "      <td>11.1</td>\n",
       "      <td>6.5</td>\n",
       "      <td>8.8</td>\n",
       "      <td>74.1</td>\n",
       "      <td>0.0</td>\n",
       "      <td>0.0</td>\n",
       "      <td>11.0</td>\n",
       "      <td>21.9</td>\n",
       "    </tr>\n",
       "    <tr>\n",
       "      <th>1</th>\n",
       "      <td>2019-01-02</td>\n",
       "      <td>Camden</td>\n",
       "      <td>3</td>\n",
       "      <td>4</td>\n",
       "      <td>39</td>\n",
       "      <td>46</td>\n",
       "      <td>6.6</td>\n",
       "      <td>5.1</td>\n",
       "      <td>5.8</td>\n",
       "      <td>68.9</td>\n",
       "      <td>0.0</td>\n",
       "      <td>0.0</td>\n",
       "      <td>7.8</td>\n",
       "      <td>16.1</td>\n",
       "    </tr>\n",
       "    <tr>\n",
       "      <th>2</th>\n",
       "      <td>2019-01-03</td>\n",
       "      <td>Camden</td>\n",
       "      <td>12</td>\n",
       "      <td>2</td>\n",
       "      <td>42</td>\n",
       "      <td>56</td>\n",
       "      <td>5.6</td>\n",
       "      <td>4.0</td>\n",
       "      <td>5.1</td>\n",
       "      <td>66.5</td>\n",
       "      <td>0.0</td>\n",
       "      <td>0.0</td>\n",
       "      <td>5.1</td>\n",
       "      <td>19.9</td>\n",
       "    </tr>\n",
       "    <tr>\n",
       "      <th>3</th>\n",
       "      <td>2019-01-04</td>\n",
       "      <td>Camden</td>\n",
       "      <td>16</td>\n",
       "      <td>7</td>\n",
       "      <td>38</td>\n",
       "      <td>61</td>\n",
       "      <td>5.0</td>\n",
       "      <td>2.5</td>\n",
       "      <td>3.6</td>\n",
       "      <td>70.1</td>\n",
       "      <td>0.0</td>\n",
       "      <td>0.0</td>\n",
       "      <td>7.6</td>\n",
       "      <td>8.5</td>\n",
       "    </tr>\n",
       "    <tr>\n",
       "      <th>4</th>\n",
       "      <td>2019-01-05</td>\n",
       "      <td>Camden</td>\n",
       "      <td>8</td>\n",
       "      <td>1</td>\n",
       "      <td>47</td>\n",
       "      <td>56</td>\n",
       "      <td>6.1</td>\n",
       "      <td>4.0</td>\n",
       "      <td>5.1</td>\n",
       "      <td>74.0</td>\n",
       "      <td>0.0</td>\n",
       "      <td>0.0</td>\n",
       "      <td>8.9</td>\n",
       "      <td>11.2</td>\n",
       "    </tr>\n",
       "  </tbody>\n",
       "</table>\n",
       "</div>"
      ],
      "text/plain": [
       "        Date Borough  Burglary  Robbery  Theft  Total_Crime  tempmax  tempmin  \\\n",
       "0 2019-01-01  Camden         9        3     38           50     11.1      6.5   \n",
       "1 2019-01-02  Camden         3        4     39           46      6.6      5.1   \n",
       "2 2019-01-03  Camden        12        2     42           56      5.6      4.0   \n",
       "3 2019-01-04  Camden        16        7     38           61      5.0      2.5   \n",
       "4 2019-01-05  Camden         8        1     47           56      6.1      4.0   \n",
       "\n",
       "   temp  humidity  precip  snow  windspeed  visibility  \n",
       "0   8.8      74.1     0.0   0.0       11.0        21.9  \n",
       "1   5.8      68.9     0.0   0.0        7.8        16.1  \n",
       "2   5.1      66.5     0.0   0.0        5.1        19.9  \n",
       "3   3.6      70.1     0.0   0.0        7.6         8.5  \n",
       "4   5.1      74.0     0.0   0.0        8.9        11.2  "
      ]
     },
     "execution_count": 16,
     "metadata": {},
     "output_type": "execute_result"
    }
   ],
   "source": [
    "# Preview \n",
    "final_df.head()"
   ]
  },
  {
   "cell_type": "code",
   "execution_count": 18,
   "id": "c4d02e13-60ba-4117-9990-6b4b58fba3a5",
   "metadata": {},
   "outputs": [
    {
     "name": "stdout",
     "output_type": "stream",
     "text": [
      "Final dataset shape: (7111, 14)\n",
      "Columns: ['Date', 'Borough', 'Burglary', 'Robbery', 'Theft', 'Total_Crime', 'tempmax', 'tempmin', 'temp', 'humidity', 'precip', 'snow', 'windspeed', 'visibility']\n",
      "Date range: 2019-01-01 00:00:00 to 2020-06-30 00:00:00\n",
      "Number of boroughs: 13\n",
      "Sample boroughs: ['Camden' 'City of London' 'Greenwich' 'Hackney' 'Hammersmith and Fulham']\n"
     ]
    }
   ],
   "source": [
    "# Confirm final dataset shape and structure \n",
    "print(\"Final dataset shape:\", final_df.shape)\n",
    "print(\"Columns:\", final_df.columns.tolist())\n",
    "print(\"Date range:\", final_df[\"Date\"].min(), \"to\", final_df[\"Date\"].max())\n",
    "print(\"Number of boroughs:\", final_df[\"Borough\"].nunique())\n",
    "print(\"Sample boroughs:\", final_df[\"Borough\"].unique()[:5])"
   ]
  },
  {
   "cell_type": "code",
   "execution_count": 17,
   "id": "2cf58ff4-be37-46be-8331-f60aaaa43835",
   "metadata": {},
   "outputs": [],
   "source": [
    "final_df.to_csv(\"Crime_Weather_Dataset.csv\", index=False)"
   ]
  },
  {
   "cell_type": "code",
   "execution_count": null,
   "id": "74b21db9-ab92-4561-a566-912ef19f3e59",
   "metadata": {},
   "outputs": [],
   "source": []
  }
 ],
 "metadata": {
  "kernelspec": {
   "display_name": "Python 3 (ipykernel)",
   "language": "python",
   "name": "python3"
  },
  "language_info": {
   "codemirror_mode": {
    "name": "ipython",
    "version": 3
   },
   "file_extension": ".py",
   "mimetype": "text/x-python",
   "name": "python",
   "nbconvert_exporter": "python",
   "pygments_lexer": "ipython3",
   "version": "3.12.6"
  }
 },
 "nbformat": 4,
 "nbformat_minor": 5
}
